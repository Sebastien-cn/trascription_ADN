{
 "cells": [
  {
   "cell_type": "markdown",
   "metadata": {},
   "source": [
    "- Nom         :\n",
    "- Prénom      :\n",
    "- N. étudiant :"
   ]
  },
  {
   "cell_type": "markdown",
   "metadata": {
    "id": "lQoA-Gz17KsI"
   },
   "source": [
    "\n",
    "> ### _**Note**: inutile de s'arrêter sur les notions de biologie exposées pour réaliser les exercices, elles servent ici simplement d'illustration. Au besoin, reportez vous aux exemples pour mieux comprendre les questions._\n",
    "\n",
    "L'__ADN__ contient l'information génétique permettant le fonctionnement des êtres vivants.\n",
    "\n",
    "Il est constitué de deux brins formant une double hélice.  \n",
    "Chaque brin est formé par une chaine de _nucléotides_, qui contiennent l'une des bases suivantes :\n",
    "\n",
    "- __A__ pour _Adénine_\n",
    "- __T__ pour _Thymine_\n",
    "- __G__ pour _Guanine_\n",
    "- __C__ pour _Cytosine_\n",
    "\n",
    "L'ordre dans lequel se succèdent les nucléotides le long d'un brin d'ADN constitue la _séquence_ de ce brin.  \n",
    "C'est elle qui porte l'information génétique."
   ]
  },
  {
   "cell_type": "markdown",
   "metadata": {
    "id": "yZ0FFq1v7KsP"
   },
   "source": [
    "# Lecture d'une séquence\n",
    "\n",
    "Nous pouvons stocker une séquence d'ADN dans un fichier simplement à l'aide d'une chaine de caractères de cette forme:\n",
    "```\n",
    "'AATGTCCAGTCAGTTG...'\n",
    "```\n",
    "\n",
    "Ecrire une fonction `lire_adn(filename)` permettant de lire et retourner le contenu d'un tel fichier.\n",
    "\n",
    "Par exemple, `lire_adn(\"ncov-s.txt\")` retournera la séquence `\"ATGTTTGTTTTTCTT...\"`."
   ]
  },
  {
   "cell_type": "code",
   "execution_count": 1,
   "metadata": {
    "id": "hmkDAw0x7KsP"
   },
   "outputs": [],
   "source": [
    "def lire_adn(filename):\n",
    "    fp = open(filename, \"r\")\n",
    "    for ligne in fp:\n",
    "        print(ligne)\n",
    "    return ligne"
   ]
  },
  {
   "cell_type": "markdown",
   "metadata": {
    "id": "a7WCdTtR7KsQ"
   },
   "source": [
    "# Transcription\n",
    "\n",
    "La _transcription_ est un mécanisme qui permet de copier l'ADN dans le noyau de la cellule pour former un __ARN__.  \n",
    "Lors de la transcription, la Thymine (__T__) est remplacée par l'Uracile (__U__).\n",
    "\n",
    "Ecrire une fonction `transcrire_adn(seq)` permettant de transcrire une séquence d'ADN en ARN.\n",
    "\n",
    "Par exemple, `transcrire_adn('AATGTCCAGTCAG')` doit renvoyer `'AAUGUCCAGUCAG'`."
   ]
  },
  {
   "cell_type": "code",
   "execution_count": 2,
   "metadata": {
    "id": "ywCmkFtK7KsR"
   },
   "outputs": [],
   "source": [
    "def transcrire_adn(seq):\n",
    "    liste = []\n",
    "    fp = open(\"ncov-s.txt\",\"r\")\n",
    "    for ligne in fp:\n",
    "        liste.append(ligne)\n",
    "        res = [elem.replace('T', 'U') for elem in liste]\n",
    "    fp.close()\n",
    "    return res "
   ]
  },
  {
   "cell_type": "markdown",
   "metadata": {
    "id": "sAEb75pB7KsR"
   },
   "source": [
    "# Découpage de l'ARN\n",
    "\n",
    "L'ARN est découpé en _codons_, constitués de 3 bases successives, qui correspondent chacun à un acide aminé. Ils sont lus les uns à la suite des autres.\n",
    "\n",
    "Ecrire une fonction `arn_vers_codons(seq)` permettant de découper une séquence d'ADN en une liste de codons.\n",
    "\n",
    "Par exemple, `arn_vers_codons('AAUGUCCAGUCAGUU')` renverra:\n",
    "```['AAU', 'GUC', 'CAG', 'UCA', 'GUU']```"
   ]
  },
  {
   "cell_type": "code",
   "execution_count": 3,
   "metadata": {
    "id": "_8VHxZgV7KsS"
   },
   "outputs": [],
   "source": [
    "def arn_vers_codons(seq):\n",
    "    codons = []\n",
    "    k = 0\n",
    "    i = 0\n",
    "    j = 3\n",
    "    while k < (len(seq)):\n",
    "        ARN = seq[k]       \n",
    "        while i < (len(ARN)):\n",
    "            codons.append(ARN[i:j])\n",
    "            i += 3\n",
    "            j += 3 \n",
    "        k += 1\n",
    "        i = 0\n",
    "        j = 3\n",
    "    return codons"
   ]
  },
  {
   "cell_type": "markdown",
   "metadata": {
    "id": "d0fuI19W7KsS"
   },
   "source": [
    "# Traduction\n",
    "\n",
    "La _traduction_ de l'ADN consiste à lire l'ARN issu de la transcription pour synthétiser une protéine sous forme d'une chaîne d'acides aminés.\n",
    "\n",
    "Le dictionnaire ci-dessous donne la correspondance entre un codon, composé de trois bases d'ARN, et un acide aminé.  \n",
    "Par exemple, le codon `GUC` code pour l'acide aminé `Val` (valine)."
   ]
  },
  {
   "cell_type": "code",
   "execution_count": 4,
   "metadata": {
    "id": "V-SfulQV7KsS"
   },
   "outputs": [],
   "source": [
    "codage = {'GUC': 'Val', 'GUG': 'Val', 'UCA': 'Ser', 'CUC': 'Leu', 'AUU': 'Ile', 'CCU': 'Pro', 'CGG': 'Arg',\n",
    "          'GGU': 'Gly', 'CAU': 'His', 'CGU': 'Arg', 'GCG': 'Ala', 'AGA': 'Arg', 'CUG': 'Leu', 'GUU': 'Val',\n",
    "          'AUA': 'Ile', 'UGU': 'Cys', 'GCC': 'Ala', 'UAU': 'Tyr', 'ACU': 'Thr', 'UGG': 'Trp', 'CAG': 'Gln',\n",
    "          'CAC': 'His', 'AGC': 'Ser', 'GGG': 'Gly', 'CUU': 'Leu', 'ACA': 'Thr', 'CUA': 'Leu', 'GAA': 'Glu',\n",
    "          'AUC': 'Ile', 'CGC': 'Arg', 'UGC': 'Cys', 'UCC': 'Ser', 'AAU': 'Asn', 'UUC': 'Phe', 'CCC': 'Pro', \n",
    "          'AGG': 'Arg', 'UGA':  None, 'UAG':  None, 'UAA':  None, 'AUG': 'Met', 'UUG': 'Leu', 'UUA': 'Leu', \n",
    "          'AGU': 'Ser', 'GGC': 'Gly', 'GAU': 'Asp', 'CCA': 'Pro', 'CGA': 'Arg', 'GUA': 'Val', 'CAA': 'Gln',\n",
    "          'UCU': 'Ser', 'UCG': 'Ser', 'ACC': 'Thr', 'GAG': 'Glu', 'GGA': 'Gly', 'GCU': 'Ala', 'GAC': 'Asp',\n",
    "          'AAC': 'Asn', 'AAG': 'Lys', 'GCA': 'Ala', 'CCG': 'Pro', 'AAA': 'Lys', 'ACG': 'Thr', 'UAC': 'Tyr',\n",
    "          'UUU': 'Phe'}"
   ]
  },
  {
   "cell_type": "markdown",
   "metadata": {
    "id": "3Tms9Yze7KsT"
   },
   "source": [
    "On remarquera que plusieurs codons différents peuvent coder pour le même acide aminé.  \n",
    "Notez également que certains codent pour la valeur `None`. \n",
    "Ces derniers indiquent la fin de la partie \"codante\" et __stoppent__ la synthèse de la protéine.\n",
    "\n",
    "Écrire une fonction `traduire_arn(seq)` qui traduit l'ARN et renvoie la liste d'acides aminés correspondante.  \n",
    "__Attention__, la chaine doit s'arrêter au codon STOP.\n",
    "\n",
    "Exemple: `traduire_arn('AAUGUCCAGUAGUCA')` retournera `['Asn', 'Val', 'Gln']`."
   ]
  },
  {
   "cell_type": "code",
   "execution_count": 5,
   "metadata": {
    "id": "n79-RaK57KsT"
   },
   "outputs": [],
   "source": [
    "def traduire_arn(seq):\n",
    "    acide = []\n",
    "    k = 0\n",
    "    for k in range (len(seq)):\n",
    "        codons = seq[k]\n",
    "        try:\n",
    "            acide.append(codage[codons])\n",
    "            if acide[-1] == None:\n",
    "                break\n",
    "        except:\n",
    "            if len(codons) == 1:\n",
    "                acide.append(\"nul\")            \n",
    "    return acide"
   ]
  },
  {
   "cell_type": "markdown",
   "metadata": {
    "id": "UYItVZRF7KsU"
   },
   "source": [
    "# Acide aminés\n",
    "\n",
    "On souhaite avoir un tableau permettant de savoir quels sont les codons qui correspondent à chaque acide aminé, sous cette forme:\n",
    "\n",
    "```\n",
    "Ala : GCA, GCC, GCG, GCU\n",
    "Arg : AGA, AGG, CGA, CGC, CGG, CGU\n",
    "Asn : AAC, AAU\n",
    "...\n",
    "```\n",
    "\n",
    "Ecrire le code permettant de générer ce tableau, et l'enregistrer dans un fichier `amines.txt`.  \n",
    "Ce fichier sera rendu avec le devoir."
   ]
  },
  {
   "cell_type": "code",
   "execution_count": 6,
   "metadata": {},
   "outputs": [
    {
     "name": "stdout",
     "output_type": "stream",
     "text": [
      "ATGTTTGTTTTTCTTGTTTTATTGCCACTAGTCTCTAGTCAGTGTGTTAATCTTACAACCAGAACTCAAT\n",
      "\n",
      "TACCCCCTGCATACACTAATTCTTTCACACGTGGTGTTTATTACCCTGACAAAGTTTTCAGATCCTCAGT\n",
      "\n",
      "TTTACATTCAACTCAGGACTTGTTCTTACCTTTCTTTTCCAATGTTACTTGGTTCCATGCTATACATGTC\n",
      "\n",
      "TCTGGGACCAATGGTACTAAGAGGTTTGATAACCCTGTCCTACCATTTAATGATGGTGTTTATTTTGCTT\n",
      "\n",
      "CCACTGAGAAGTCTAACATAATAAGAGGCTGGATTTTTGGTACTACTTTAGATTCGAAGACCCAGTCCCT\n",
      "\n",
      "ACTTATTGTTAATAACGCTACTAATGTTGTTATTAAAGTCTGTGAATTTCAATTTTGTAATGATCCATTT\n",
      "\n",
      "TTGGGTGTTTATTACCACAAAAACAACAAAAGTTGGATGGAAAGTGAGTTCAGAGTTTATTCTAGTGCGA\n",
      "\n",
      "ATAATTGCACTTTTGAATATGTCTCTCAGCCTTTTCTTATGGACCTTGAAGGAAAACAGGGTAATTTCAA\n",
      "\n",
      "AAATCTTAGGGAATTTGTGTTTAAGAATATTGATGGTTATTTTAAAATATATTCTAAGCACACGCCTATT\n",
      "\n",
      "AATTTAGTGCGTGATCTCCCTCAGGGTTTTTCGGCTTTAGAACCATTGGTAGATTTGCCAATAGGTATTA\n",
      "\n",
      "ACATCACTAGGTTTCAAACTTTACTTGCTTTACATAGAAGTTATTTGACTCCTGGTGATTCTTCTTCAGG\n",
      "\n",
      "TTGGACAGCTGGTGCTGCAGCTTATTATGTGGGTTATCTTCAACCTAGGACTTTTCTATTAAAATATAAT\n",
      "\n",
      "GAAAATGGAACCATTACAGATGCTGTAGACTGTGCACTTGACCCTCTCTCAGAAACAAAGTGTACGTTGA\n",
      "\n",
      "AATCCTTCACTGTAGAAAAAGGAATCTATCAAACTTCTAACTTTAGAGTCCAACCAACAGAATCTATTGT\n",
      "\n",
      "TAGATTTCCTAATATTACAAACTTGTGCCCTTTTGGTGAAGTTTTTAACGCCACCAGATTTGCATCTGTT\n",
      "\n",
      "TATGCTTGGAACAGGAAGAGAATCAGCAACTGTGTTGCTGATTATTCTGTCCTATATAATTCCGCATCAT\n",
      "\n",
      "TTTCCACTTTTAAGTGTTATGGAGTGTCTCCTACTAAATTAAATGATCTCTGCTTTACTAATGTCTATGC\n",
      "\n",
      "AGATTCATTTGTAATTAGAGGTGATGAAGTCAGACAAATCGCTCCAGGGCAAACTGGAAAGATTGCTGAT\n",
      "\n",
      "TATAATTATAAATTACCAGATGATTTTACAGGCTGCGTTATAGCTTGGAATTCTAACAATCTTGATTCTA\n",
      "\n",
      "AGGTTGGTGGTAATTATAATTACCTGTATAGATTGTTTAGGAAGTCTAATCTCAAACCTTTTGAGAGAGA\n",
      "\n",
      "TATTTCAACTGAAATCTATCAGGCCGGTAGCACACCTTGTAATGGTGTTGAAGGTTTTAATTGTTACTTT\n",
      "\n",
      "CCTTTACAATCATATGGTTTCCAACCCACTAATGGTGTTGGTTACCAACCATACAGAGTAGTAGTACTTT\n",
      "\n",
      "CTTTTGAACTTCTACATGCACCAGCAACTGTTTGTGGACCTAAAAAGTCTACTAATTTGGTTAAAAACAA\n",
      "\n",
      "ATGTGTCAATTTCAACTTCAATGGTTTAACAGGCACAGGTGTTCTTACTGAGTCTAACAAAAAGTTTCTG\n",
      "\n",
      "CCTTTCCAACAATTTGGCAGAGACATTGCTGACACTACTGATGCTGTCCGTGATCCACAGACACTTGAGA\n",
      "\n",
      "TTCTTGACATTACACCATGTTCTTTTGGTGGTGTCAGTGTTATAACACCAGGAACAAATACTTCTAACCA\n",
      "\n",
      "GGTTGCTGTTCTTTATCAGGATGTTAACTGCACAGAAGTCCCTGTTGCTATTCATGCAGATCAACTTACT\n",
      "\n",
      "CCTACTTGGCGTGTTTATTCTACAGGTTCTAATGTTTTTCAAACACGTGCAGGCTGTTTAATAGGGGCTG\n",
      "\n",
      "AACATGTCAACAACTCATATGAGTGTGACATACCCATTGGTGCAGGTATATGCGCTAGTTATCAGACTCA\n",
      "\n",
      "GACTAATTCTCCTCGGCGGGCACGTAGTGTAGCTAGTCAATCCATCATTGCCTACACTATGTCACTTGGT\n",
      "\n",
      "GCAGAAAATTCAGTTGCTTACTCTAATAACTCTATTGCCATACCCACAAATTTTACTATTAGTGTTACCA\n",
      "\n",
      "CAGAAATTCTACCAGTGTCTATGACCAAGACATCAGTAGATTGTACAATGTACATTTGTGGTGATTCAAC\n",
      "\n",
      "TGAATGCAGCAATCTTTTGTTGCAATATGGCAGTTTTTGTACACAATTAAACCGTGCTTTAACTGGAATA\n",
      "\n",
      "GCTGTTGAACAAGACAAAAACACCCAAGAAGTTTTTGCACAAGTCAAACAAATTTACAAAACACCACCAA\n",
      "\n",
      "TTAAAGATTTTGGTGGTTTTAATTTTTCACAAATATTACCAGATCCATCAAAACCAAGCAAGAGGTCATT\n",
      "\n",
      "TATTGAAGATCTACTTTTCAACAAAGTGACACTTGCAGATGCTGGCTTCATCAAACAATATGGTGATTGC\n",
      "\n",
      "CTTGGTGATATTGCTGCTAGAGACCTCATTTGTGCACAAAAGTTTAACGGCCTTACTGTTTTGCCACCTT\n",
      "\n",
      "TGCTCACAGATGAAATGATTGCTCAATACACTTCTGCACTGTTAGCGGGTACAATCACTTCTGGTTGGAC\n",
      "\n",
      "CTTTGGTGCAGGTGCTGCATTACAAATACCATTTGCTATGCAAATGGCTTATAGGTTTAATGGTATTGGA\n",
      "\n",
      "GTTACACAGAATGTTCTCTATGAGAACCAAAAATTGATTGCCAACCAATTTAATAGTGCTATTGGCAAAA\n",
      "\n",
      "TTCAAGACTCACTTTCTTCCACAGCAAGTGCACTTGGAAAACTTCAAGATGTGGTCAACCAAAATGCACA\n",
      "\n",
      "AGCTTTAAACACGCTTGTTAAACAACTTAGCTCCAATTTTGGTGCAATTTCAAGTGTTTTAAATGATATC\n",
      "\n",
      "CTTTCACGTCTTGACAAAGTTGAGGCTGAAGTGCAAATTGATAGGTTGATCACAGGCAGACTTCAAAGTT\n",
      "\n",
      "TGCAGACATATGTGACTCAACAATTAATTAGAGCTGCAGAAATCAGAGCTTCTGCTAATCTTGCTGCTAC\n",
      "\n",
      "TAAAATGTCAGAGTGTGTACTTGGACAATCAAAAAGAGTTGATTTTTGTGGAAAGGGCTATCATCTTATG\n",
      "\n",
      "TCCTTCCCTCAGTCAGCACCTCATGGTGTAGTCTTCTTGCATGTGACTTATGTCCCTGCACAAGAAAAGA\n",
      "\n",
      "ACTTCACAACTGCTCCTGCCATTTGTCATGATGGAAAAGCACACTTTCCTCGTGAAGGTGTCTTTGTTTC\n",
      "\n",
      "AAATGGCACACACTGGTTTGTAACACAAAGGAATTTTTATGAACCACAAATCATTACTACAGACAACACA\n",
      "\n",
      "TTTGTGTCTGGTAACTGTGATGTTGTAATAGGAATTGTCAACAACACAGTTTATGATCCTTTGCAACCTG\n",
      "\n",
      "AATTAGACTCATTCAAGGAGGAGTTAGATAAATATTTTAAGAATCATACATCACCAGATGTTGATTTAGG\n",
      "\n",
      "TGACATCTCTGGCATTAATGCTTCAGTTGTAAACATTCAAAAAGAAATTGACCGCCTCAATGAGGTTGCC\n",
      "\n",
      "AAGAATTTAAATGAATCTCTCATCGATCTCCAAGAACTTGGAAAGTATGAGCAGTATATAAAATGGCCAT\n",
      "\n",
      "GGTACATTTGGCTAGGTTTTATAGCTGGCTTGATTGCCATAGTAATGGTGACAATTATGCTTTGCTGTAT\n",
      "\n",
      "GACCAGTTGCTGTAGTTGTCTCAAGGGCTGTTGTTCTTGTGGATCCTGCTGCAAATTTGATGAAGACGAC\n",
      "\n",
      "TCTGAGCCAGTGCTCAAAGGAGTCAAATTACATTACACATAA\n",
      "\n"
     ]
    }
   ],
   "source": [
    "sequence = lire_adn(\"ncov-s.txt\")"
   ]
  },
  {
   "cell_type": "code",
   "execution_count": 7,
   "metadata": {},
   "outputs": [],
   "source": [
    "liste = transcrire_adn(sequence)"
   ]
  },
  {
   "cell_type": "code",
   "execution_count": 8,
   "metadata": {},
   "outputs": [
    {
     "name": "stdout",
     "output_type": "stream",
     "text": [
      "['AUGUUUGUUUUUCUUGUUUUAUUGCCACUAGUCUCUAGUCAGUGUGUUAAUCUUACAACCAGAACUCAAU\\n', 'UACCCCCUGCAUACACUAAUUCUUUCACACGUGGUGUUUAUUACCCUGACAAAGUUUUCAGAUCCUCAGU\\n', 'UUUACAUUCAACUCAGGACUUGUUCUUACCUUUCUUUUCCAAUGUUACUUGGUUCCAUGCUAUACAUGUC\\n', 'UCUGGGACCAAUGGUACUAAGAGGUUUGAUAACCCUGUCCUACCAUUUAAUGAUGGUGUUUAUUUUGCUU\\n', 'CCACUGAGAAGUCUAACAUAAUAAGAGGCUGGAUUUUUGGUACUACUUUAGAUUCGAAGACCCAGUCCCU\\n', 'ACUUAUUGUUAAUAACGCUACUAAUGUUGUUAUUAAAGUCUGUGAAUUUCAAUUUUGUAAUGAUCCAUUU\\n', 'UUGGGUGUUUAUUACCACAAAAACAACAAAAGUUGGAUGGAAAGUGAGUUCAGAGUUUAUUCUAGUGCGA\\n', 'AUAAUUGCACUUUUGAAUAUGUCUCUCAGCCUUUUCUUAUGGACCUUGAAGGAAAACAGGGUAAUUUCAA\\n', 'AAAUCUUAGGGAAUUUGUGUUUAAGAAUAUUGAUGGUUAUUUUAAAAUAUAUUCUAAGCACACGCCUAUU\\n', 'AAUUUAGUGCGUGAUCUCCCUCAGGGUUUUUCGGCUUUAGAACCAUUGGUAGAUUUGCCAAUAGGUAUUA\\n', 'ACAUCACUAGGUUUCAAACUUUACUUGCUUUACAUAGAAGUUAUUUGACUCCUGGUGAUUCUUCUUCAGG\\n', 'UUGGACAGCUGGUGCUGCAGCUUAUUAUGUGGGUUAUCUUCAACCUAGGACUUUUCUAUUAAAAUAUAAU\\n', 'GAAAAUGGAACCAUUACAGAUGCUGUAGACUGUGCACUUGACCCUCUCUCAGAAACAAAGUGUACGUUGA\\n', 'AAUCCUUCACUGUAGAAAAAGGAAUCUAUCAAACUUCUAACUUUAGAGUCCAACCAACAGAAUCUAUUGU\\n', 'UAGAUUUCCUAAUAUUACAAACUUGUGCCCUUUUGGUGAAGUUUUUAACGCCACCAGAUUUGCAUCUGUU\\n', 'UAUGCUUGGAACAGGAAGAGAAUCAGCAACUGUGUUGCUGAUUAUUCUGUCCUAUAUAAUUCCGCAUCAU\\n', 'UUUCCACUUUUAAGUGUUAUGGAGUGUCUCCUACUAAAUUAAAUGAUCUCUGCUUUACUAAUGUCUAUGC\\n', 'AGAUUCAUUUGUAAUUAGAGGUGAUGAAGUCAGACAAAUCGCUCCAGGGCAAACUGGAAAGAUUGCUGAU\\n', 'UAUAAUUAUAAAUUACCAGAUGAUUUUACAGGCUGCGUUAUAGCUUGGAAUUCUAACAAUCUUGAUUCUA\\n', 'AGGUUGGUGGUAAUUAUAAUUACCUGUAUAGAUUGUUUAGGAAGUCUAAUCUCAAACCUUUUGAGAGAGA\\n', 'UAUUUCAACUGAAAUCUAUCAGGCCGGUAGCACACCUUGUAAUGGUGUUGAAGGUUUUAAUUGUUACUUU\\n', 'CCUUUACAAUCAUAUGGUUUCCAACCCACUAAUGGUGUUGGUUACCAACCAUACAGAGUAGUAGUACUUU\\n', 'CUUUUGAACUUCUACAUGCACCAGCAACUGUUUGUGGACCUAAAAAGUCUACUAAUUUGGUUAAAAACAA\\n', 'AUGUGUCAAUUUCAACUUCAAUGGUUUAACAGGCACAGGUGUUCUUACUGAGUCUAACAAAAAGUUUCUG\\n', 'CCUUUCCAACAAUUUGGCAGAGACAUUGCUGACACUACUGAUGCUGUCCGUGAUCCACAGACACUUGAGA\\n', 'UUCUUGACAUUACACCAUGUUCUUUUGGUGGUGUCAGUGUUAUAACACCAGGAACAAAUACUUCUAACCA\\n', 'GGUUGCUGUUCUUUAUCAGGAUGUUAACUGCACAGAAGUCCCUGUUGCUAUUCAUGCAGAUCAACUUACU\\n', 'CCUACUUGGCGUGUUUAUUCUACAGGUUCUAAUGUUUUUCAAACACGUGCAGGCUGUUUAAUAGGGGCUG\\n', 'AACAUGUCAACAACUCAUAUGAGUGUGACAUACCCAUUGGUGCAGGUAUAUGCGCUAGUUAUCAGACUCA\\n', 'GACUAAUUCUCCUCGGCGGGCACGUAGUGUAGCUAGUCAAUCCAUCAUUGCCUACACUAUGUCACUUGGU\\n', 'GCAGAAAAUUCAGUUGCUUACUCUAAUAACUCUAUUGCCAUACCCACAAAUUUUACUAUUAGUGUUACCA\\n', 'CAGAAAUUCUACCAGUGUCUAUGACCAAGACAUCAGUAGAUUGUACAAUGUACAUUUGUGGUGAUUCAAC\\n', 'UGAAUGCAGCAAUCUUUUGUUGCAAUAUGGCAGUUUUUGUACACAAUUAAACCGUGCUUUAACUGGAAUA\\n', 'GCUGUUGAACAAGACAAAAACACCCAAGAAGUUUUUGCACAAGUCAAACAAAUUUACAAAACACCACCAA\\n', 'UUAAAGAUUUUGGUGGUUUUAAUUUUUCACAAAUAUUACCAGAUCCAUCAAAACCAAGCAAGAGGUCAUU\\n', 'UAUUGAAGAUCUACUUUUCAACAAAGUGACACUUGCAGAUGCUGGCUUCAUCAAACAAUAUGGUGAUUGC\\n', 'CUUGGUGAUAUUGCUGCUAGAGACCUCAUUUGUGCACAAAAGUUUAACGGCCUUACUGUUUUGCCACCUU\\n', 'UGCUCACAGAUGAAAUGAUUGCUCAAUACACUUCUGCACUGUUAGCGGGUACAAUCACUUCUGGUUGGAC\\n', 'CUUUGGUGCAGGUGCUGCAUUACAAAUACCAUUUGCUAUGCAAAUGGCUUAUAGGUUUAAUGGUAUUGGA\\n', 'GUUACACAGAAUGUUCUCUAUGAGAACCAAAAAUUGAUUGCCAACCAAUUUAAUAGUGCUAUUGGCAAAA\\n', 'UUCAAGACUCACUUUCUUCCACAGCAAGUGCACUUGGAAAACUUCAAGAUGUGGUCAACCAAAAUGCACA\\n', 'AGCUUUAAACACGCUUGUUAAACAACUUAGCUCCAAUUUUGGUGCAAUUUCAAGUGUUUUAAAUGAUAUC\\n', 'CUUUCACGUCUUGACAAAGUUGAGGCUGAAGUGCAAAUUGAUAGGUUGAUCACAGGCAGACUUCAAAGUU\\n', 'UGCAGACAUAUGUGACUCAACAAUUAAUUAGAGCUGCAGAAAUCAGAGCUUCUGCUAAUCUUGCUGCUAC\\n', 'UAAAAUGUCAGAGUGUGUACUUGGACAAUCAAAAAGAGUUGAUUUUUGUGGAAAGGGCUAUCAUCUUAUG\\n', 'UCCUUCCCUCAGUCAGCACCUCAUGGUGUAGUCUUCUUGCAUGUGACUUAUGUCCCUGCACAAGAAAAGA\\n', 'ACUUCACAACUGCUCCUGCCAUUUGUCAUGAUGGAAAAGCACACUUUCCUCGUGAAGGUGUCUUUGUUUC\\n', 'AAAUGGCACACACUGGUUUGUAACACAAAGGAAUUUUUAUGAACCACAAAUCAUUACUACAGACAACACA\\n', 'UUUGUGUCUGGUAACUGUGAUGUUGUAAUAGGAAUUGUCAACAACACAGUUUAUGAUCCUUUGCAACCUG\\n', 'AAUUAGACUCAUUCAAGGAGGAGUUAGAUAAAUAUUUUAAGAAUCAUACAUCACCAGAUGUUGAUUUAGG\\n', 'UGACAUCUCUGGCAUUAAUGCUUCAGUUGUAAACAUUCAAAAAGAAAUUGACCGCCUCAAUGAGGUUGCC\\n', 'AAGAAUUUAAAUGAAUCUCUCAUCGAUCUCCAAGAACUUGGAAAGUAUGAGCAGUAUAUAAAAUGGCCAU\\n', 'GGUACAUUUGGCUAGGUUUUAUAGCUGGCUUGAUUGCCAUAGUAAUGGUGACAAUUAUGCUUUGCUGUAU\\n', 'GACCAGUUGCUGUAGUUGUCUCAAGGGCUGUUGUUCUUGUGGAUCCUGCUGCAAAUUUGAUGAAGACGAC\\n', 'UCUGAGCCAGUGCUCAAAGGAGUCAAAUUACAUUACACAUAA\\n']\n"
     ]
    }
   ],
   "source": [
    "print(liste)"
   ]
  },
  {
   "cell_type": "code",
   "execution_count": 9,
   "metadata": {},
   "outputs": [],
   "source": [
    "codons = arn_vers_codons(liste)"
   ]
  },
  {
   "cell_type": "code",
   "execution_count": 10,
   "metadata": {},
   "outputs": [
    {
     "name": "stdout",
     "output_type": "stream",
     "text": [
      "['AUG', 'UUU', 'GUU', 'UUU', 'CUU', 'GUU', 'UUA', 'UUG', 'CCA', 'CUA', 'GUC', 'UCU', 'AGU', 'CAG', 'UGU', 'GUU', 'AAU', 'CUU', 'ACA', 'ACC', 'AGA', 'ACU', 'CAA', 'U\\n', 'UAC', 'CCC', 'CUG', 'CAU', 'ACA', 'CUA', 'AUU', 'CUU', 'UCA', 'CAC', 'GUG', 'GUG', 'UUU', 'AUU', 'ACC', 'CUG', 'ACA', 'AAG', 'UUU', 'UCA', 'GAU', 'CCU', 'CAG', 'U\\n', 'UUU', 'ACA', 'UUC', 'AAC', 'UCA', 'GGA', 'CUU', 'GUU', 'CUU', 'ACC', 'UUU', 'CUU', 'UUC', 'CAA', 'UGU', 'UAC', 'UUG', 'GUU', 'CCA', 'UGC', 'UAU', 'ACA', 'UGU', 'C\\n', 'UCU', 'GGG', 'ACC', 'AAU', 'GGU', 'ACU', 'AAG', 'AGG', 'UUU', 'GAU', 'AAC', 'CCU', 'GUC', 'CUA', 'CCA', 'UUU', 'AAU', 'GAU', 'GGU', 'GUU', 'UAU', 'UUU', 'GCU', 'U\\n', 'CCA', 'CUG', 'AGA', 'AGU', 'CUA', 'ACA', 'UAA', 'UAA', 'GAG', 'GCU', 'GGA', 'UUU', 'UUG', 'GUA', 'CUA', 'CUU', 'UAG', 'AUU', 'CGA', 'AGA', 'CCC', 'AGU', 'CCC', 'U\\n', 'ACU', 'UAU', 'UGU', 'UAA', 'UAA', 'CGC', 'UAC', 'UAA', 'UGU', 'UGU', 'UAU', 'UAA', 'AGU', 'CUG', 'UGA', 'AUU', 'UCA', 'AUU', 'UUG', 'UAA', 'UGA', 'UCC', 'AUU', 'U\\n', 'UUG', 'GGU', 'GUU', 'UAU', 'UAC', 'CAC', 'AAA', 'AAC', 'AAC', 'AAA', 'AGU', 'UGG', 'AUG', 'GAA', 'AGU', 'GAG', 'UUC', 'AGA', 'GUU', 'UAU', 'UCU', 'AGU', 'GCG', 'A\\n', 'AUA', 'AUU', 'GCA', 'CUU', 'UUG', 'AAU', 'AUG', 'UCU', 'CUC', 'AGC', 'CUU', 'UUC', 'UUA', 'UGG', 'ACC', 'UUG', 'AAG', 'GAA', 'AAC', 'AGG', 'GUA', 'AUU', 'UCA', 'A\\n', 'AAA', 'UCU', 'UAG', 'GGA', 'AUU', 'UGU', 'GUU', 'UAA', 'GAA', 'UAU', 'UGA', 'UGG', 'UUA', 'UUU', 'UAA', 'AAU', 'AUA', 'UUC', 'UAA', 'GCA', 'CAC', 'GCC', 'UAU', 'U\\n', 'AAU', 'UUA', 'GUG', 'CGU', 'GAU', 'CUC', 'CCU', 'CAG', 'GGU', 'UUU', 'UCG', 'GCU', 'UUA', 'GAA', 'CCA', 'UUG', 'GUA', 'GAU', 'UUG', 'CCA', 'AUA', 'GGU', 'AUU', 'A\\n', 'ACA', 'UCA', 'CUA', 'GGU', 'UUC', 'AAA', 'CUU', 'UAC', 'UUG', 'CUU', 'UAC', 'AUA', 'GAA', 'GUU', 'AUU', 'UGA', 'CUC', 'CUG', 'GUG', 'AUU', 'CUU', 'CUU', 'CAG', 'G\\n', 'UUG', 'GAC', 'AGC', 'UGG', 'UGC', 'UGC', 'AGC', 'UUA', 'UUA', 'UGU', 'GGG', 'UUA', 'UCU', 'UCA', 'ACC', 'UAG', 'GAC', 'UUU', 'UCU', 'AUU', 'AAA', 'AUA', 'UAA', 'U\\n', 'GAA', 'AAU', 'GGA', 'ACC', 'AUU', 'ACA', 'GAU', 'GCU', 'GUA', 'GAC', 'UGU', 'GCA', 'CUU', 'GAC', 'CCU', 'CUC', 'UCA', 'GAA', 'ACA', 'AAG', 'UGU', 'ACG', 'UUG', 'A\\n', 'AAU', 'CCU', 'UCA', 'CUG', 'UAG', 'AAA', 'AAG', 'GAA', 'UCU', 'AUC', 'AAA', 'CUU', 'CUA', 'ACU', 'UUA', 'GAG', 'UCC', 'AAC', 'CAA', 'CAG', 'AAU', 'CUA', 'UUG', 'U\\n', 'UAG', 'AUU', 'UCC', 'UAA', 'UAU', 'UAC', 'AAA', 'CUU', 'GUG', 'CCC', 'UUU', 'UGG', 'UGA', 'AGU', 'UUU', 'UAA', 'CGC', 'CAC', 'CAG', 'AUU', 'UGC', 'AUC', 'UGU', 'U\\n', 'UAU', 'GCU', 'UGG', 'AAC', 'AGG', 'AAG', 'AGA', 'AUC', 'AGC', 'AAC', 'UGU', 'GUU', 'GCU', 'GAU', 'UAU', 'UCU', 'GUC', 'CUA', 'UAU', 'AAU', 'UCC', 'GCA', 'UCA', 'U\\n', 'UUU', 'CCA', 'CUU', 'UUA', 'AGU', 'GUU', 'AUG', 'GAG', 'UGU', 'CUC', 'CUA', 'CUA', 'AAU', 'UAA', 'AUG', 'AUC', 'UCU', 'GCU', 'UUA', 'CUA', 'AUG', 'UCU', 'AUG', 'C\\n', 'AGA', 'UUC', 'AUU', 'UGU', 'AAU', 'UAG', 'AGG', 'UGA', 'UGA', 'AGU', 'CAG', 'ACA', 'AAU', 'CGC', 'UCC', 'AGG', 'GCA', 'AAC', 'UGG', 'AAA', 'GAU', 'UGC', 'UGA', 'U\\n', 'UAU', 'AAU', 'UAU', 'AAA', 'UUA', 'CCA', 'GAU', 'GAU', 'UUU', 'ACA', 'GGC', 'UGC', 'GUU', 'AUA', 'GCU', 'UGG', 'AAU', 'UCU', 'AAC', 'AAU', 'CUU', 'GAU', 'UCU', 'A\\n', 'AGG', 'UUG', 'GUG', 'GUA', 'AUU', 'AUA', 'AUU', 'ACC', 'UGU', 'AUA', 'GAU', 'UGU', 'UUA', 'GGA', 'AGU', 'CUA', 'AUC', 'UCA', 'AAC', 'CUU', 'UUG', 'AGA', 'GAG', 'A\\n', 'UAU', 'UUC', 'AAC', 'UGA', 'AAU', 'CUA', 'UCA', 'GGC', 'CGG', 'UAG', 'CAC', 'ACC', 'UUG', 'UAA', 'UGG', 'UGU', 'UGA', 'AGG', 'UUU', 'UAA', 'UUG', 'UUA', 'CUU', 'U\\n', 'CCU', 'UUA', 'CAA', 'UCA', 'UAU', 'GGU', 'UUC', 'CAA', 'CCC', 'ACU', 'AAU', 'GGU', 'GUU', 'GGU', 'UAC', 'CAA', 'CCA', 'UAC', 'AGA', 'GUA', 'GUA', 'GUA', 'CUU', 'U\\n', 'CUU', 'UUG', 'AAC', 'UUC', 'UAC', 'AUG', 'CAC', 'CAG', 'CAA', 'CUG', 'UUU', 'GUG', 'GAC', 'CUA', 'AAA', 'AGU', 'CUA', 'CUA', 'AUU', 'UGG', 'UUA', 'AAA', 'ACA', 'A\\n', 'AUG', 'UGU', 'CAA', 'UUU', 'CAA', 'CUU', 'CAA', 'UGG', 'UUU', 'AAC', 'AGG', 'CAC', 'AGG', 'UGU', 'UCU', 'UAC', 'UGA', 'GUC', 'UAA', 'CAA', 'AAA', 'GUU', 'UCU', 'G\\n', 'CCU', 'UUC', 'CAA', 'CAA', 'UUU', 'GGC', 'AGA', 'GAC', 'AUU', 'GCU', 'GAC', 'ACU', 'ACU', 'GAU', 'GCU', 'GUC', 'CGU', 'GAU', 'CCA', 'CAG', 'ACA', 'CUU', 'GAG', 'A\\n', 'UUC', 'UUG', 'ACA', 'UUA', 'CAC', 'CAU', 'GUU', 'CUU', 'UUG', 'GUG', 'GUG', 'UCA', 'GUG', 'UUA', 'UAA', 'CAC', 'CAG', 'GAA', 'CAA', 'AUA', 'CUU', 'CUA', 'ACC', 'A\\n', 'GGU', 'UGC', 'UGU', 'UCU', 'UUA', 'UCA', 'GGA', 'UGU', 'UAA', 'CUG', 'CAC', 'AGA', 'AGU', 'CCC', 'UGU', 'UGC', 'UAU', 'UCA', 'UGC', 'AGA', 'UCA', 'ACU', 'UAC', 'U\\n', 'CCU', 'ACU', 'UGG', 'CGU', 'GUU', 'UAU', 'UCU', 'ACA', 'GGU', 'UCU', 'AAU', 'GUU', 'UUU', 'CAA', 'ACA', 'CGU', 'GCA', 'GGC', 'UGU', 'UUA', 'AUA', 'GGG', 'GCU', 'G\\n', 'AAC', 'AUG', 'UCA', 'ACA', 'ACU', 'CAU', 'AUG', 'AGU', 'GUG', 'ACA', 'UAC', 'CCA', 'UUG', 'GUG', 'CAG', 'GUA', 'UAU', 'GCG', 'CUA', 'GUU', 'AUC', 'AGA', 'CUC', 'A\\n', 'GAC', 'UAA', 'UUC', 'UCC', 'UCG', 'GCG', 'GGC', 'ACG', 'UAG', 'UGU', 'AGC', 'UAG', 'UCA', 'AUC', 'CAU', 'CAU', 'UGC', 'CUA', 'CAC', 'UAU', 'GUC', 'ACU', 'UGG', 'U\\n', 'GCA', 'GAA', 'AAU', 'UCA', 'GUU', 'GCU', 'UAC', 'UCU', 'AAU', 'AAC', 'UCU', 'AUU', 'GCC', 'AUA', 'CCC', 'ACA', 'AAU', 'UUU', 'ACU', 'AUU', 'AGU', 'GUU', 'ACC', 'A\\n', 'CAG', 'AAA', 'UUC', 'UAC', 'CAG', 'UGU', 'CUA', 'UGA', 'CCA', 'AGA', 'CAU', 'CAG', 'UAG', 'AUU', 'GUA', 'CAA', 'UGU', 'ACA', 'UUU', 'GUG', 'GUG', 'AUU', 'CAA', 'C\\n', 'UGA', 'AUG', 'CAG', 'CAA', 'UCU', 'UUU', 'GUU', 'GCA', 'AUA', 'UGG', 'CAG', 'UUU', 'UUG', 'UAC', 'ACA', 'AUU', 'AAA', 'CCG', 'UGC', 'UUU', 'AAC', 'UGG', 'AAU', 'A\\n', 'GCU', 'GUU', 'GAA', 'CAA', 'GAC', 'AAA', 'AAC', 'ACC', 'CAA', 'GAA', 'GUU', 'UUU', 'GCA', 'CAA', 'GUC', 'AAA', 'CAA', 'AUU', 'UAC', 'AAA', 'ACA', 'CCA', 'CCA', 'A\\n', 'UUA', 'AAG', 'AUU', 'UUG', 'GUG', 'GUU', 'UUA', 'AUU', 'UUU', 'CAC', 'AAA', 'UAU', 'UAC', 'CAG', 'AUC', 'CAU', 'CAA', 'AAC', 'CAA', 'GCA', 'AGA', 'GGU', 'CAU', 'U\\n', 'UAU', 'UGA', 'AGA', 'UCU', 'ACU', 'UUU', 'CAA', 'CAA', 'AGU', 'GAC', 'ACU', 'UGC', 'AGA', 'UGC', 'UGG', 'CUU', 'CAU', 'CAA', 'ACA', 'AUA', 'UGG', 'UGA', 'UUG', 'C\\n', 'CUU', 'GGU', 'GAU', 'AUU', 'GCU', 'GCU', 'AGA', 'GAC', 'CUC', 'AUU', 'UGU', 'GCA', 'CAA', 'AAG', 'UUU', 'AAC', 'GGC', 'CUU', 'ACU', 'GUU', 'UUG', 'CCA', 'CCU', 'U\\n', 'UGC', 'UCA', 'CAG', 'AUG', 'AAA', 'UGA', 'UUG', 'CUC', 'AAU', 'ACA', 'CUU', 'CUG', 'CAC', 'UGU', 'UAG', 'CGG', 'GUA', 'CAA', 'UCA', 'CUU', 'CUG', 'GUU', 'GGA', 'C\\n', 'CUU', 'UGG', 'UGC', 'AGG', 'UGC', 'UGC', 'AUU', 'ACA', 'AAU', 'ACC', 'AUU', 'UGC', 'UAU', 'GCA', 'AAU', 'GGC', 'UUA', 'UAG', 'GUU', 'UAA', 'UGG', 'UAU', 'UGG', 'A\\n', 'GUU', 'ACA', 'CAG', 'AAU', 'GUU', 'CUC', 'UAU', 'GAG', 'AAC', 'CAA', 'AAA', 'UUG', 'AUU', 'GCC', 'AAC', 'CAA', 'UUU', 'AAU', 'AGU', 'GCU', 'AUU', 'GGC', 'AAA', 'A\\n', 'UUC', 'AAG', 'ACU', 'CAC', 'UUU', 'CUU', 'CCA', 'CAG', 'CAA', 'GUG', 'CAC', 'UUG', 'GAA', 'AAC', 'UUC', 'AAG', 'AUG', 'UGG', 'UCA', 'ACC', 'AAA', 'AUG', 'CAC', 'A\\n', 'AGC', 'UUU', 'AAA', 'CAC', 'GCU', 'UGU', 'UAA', 'ACA', 'ACU', 'UAG', 'CUC', 'CAA', 'UUU', 'UGG', 'UGC', 'AAU', 'UUC', 'AAG', 'UGU', 'UUU', 'AAA', 'UGA', 'UAU', 'C\\n', 'CUU', 'UCA', 'CGU', 'CUU', 'GAC', 'AAA', 'GUU', 'GAG', 'GCU', 'GAA', 'GUG', 'CAA', 'AUU', 'GAU', 'AGG', 'UUG', 'AUC', 'ACA', 'GGC', 'AGA', 'CUU', 'CAA', 'AGU', 'U\\n', 'UGC', 'AGA', 'CAU', 'AUG', 'UGA', 'CUC', 'AAC', 'AAU', 'UAA', 'UUA', 'GAG', 'CUG', 'CAG', 'AAA', 'UCA', 'GAG', 'CUU', 'CUG', 'CUA', 'AUC', 'UUG', 'CUG', 'CUA', 'C\\n', 'UAA', 'AAU', 'GUC', 'AGA', 'GUG', 'UGU', 'ACU', 'UGG', 'ACA', 'AUC', 'AAA', 'AAG', 'AGU', 'UGA', 'UUU', 'UUG', 'UGG', 'AAA', 'GGG', 'CUA', 'UCA', 'UCU', 'UAU', 'G\\n', 'UCC', 'UUC', 'CCU', 'CAG', 'UCA', 'GCA', 'CCU', 'CAU', 'GGU', 'GUA', 'GUC', 'UUC', 'UUG', 'CAU', 'GUG', 'ACU', 'UAU', 'GUC', 'CCU', 'GCA', 'CAA', 'GAA', 'AAG', 'A\\n', 'ACU', 'UCA', 'CAA', 'CUG', 'CUC', 'CUG', 'CCA', 'UUU', 'GUC', 'AUG', 'AUG', 'GAA', 'AAG', 'CAC', 'ACU', 'UUC', 'CUC', 'GUG', 'AAG', 'GUG', 'UCU', 'UUG', 'UUU', 'C\\n', 'AAA', 'UGG', 'CAC', 'ACA', 'CUG', 'GUU', 'UGU', 'AAC', 'ACA', 'AAG', 'GAA', 'UUU', 'UUA', 'UGA', 'ACC', 'ACA', 'AAU', 'CAU', 'UAC', 'UAC', 'AGA', 'CAA', 'CAC', 'A\\n', 'UUU', 'GUG', 'UCU', 'GGU', 'AAC', 'UGU', 'GAU', 'GUU', 'GUA', 'AUA', 'GGA', 'AUU', 'GUC', 'AAC', 'AAC', 'ACA', 'GUU', 'UAU', 'GAU', 'CCU', 'UUG', 'CAA', 'CCU', 'G\\n', 'AAU', 'UAG', 'ACU', 'CAU', 'UCA', 'AGG', 'AGG', 'AGU', 'UAG', 'AUA', 'AAU', 'AUU', 'UUA', 'AGA', 'AUC', 'AUA', 'CAU', 'CAC', 'CAG', 'AUG', 'UUG', 'AUU', 'UAG', 'G\\n', 'UGA', 'CAU', 'CUC', 'UGG', 'CAU', 'UAA', 'UGC', 'UUC', 'AGU', 'UGU', 'AAA', 'CAU', 'UCA', 'AAA', 'AGA', 'AAU', 'UGA', 'CCG', 'CCU', 'CAA', 'UGA', 'GGU', 'UGC', 'C\\n', 'AAG', 'AAU', 'UUA', 'AAU', 'GAA', 'UCU', 'CUC', 'AUC', 'GAU', 'CUC', 'CAA', 'GAA', 'CUU', 'GGA', 'AAG', 'UAU', 'GAG', 'CAG', 'UAU', 'AUA', 'AAA', 'UGG', 'CCA', 'U\\n', 'GGU', 'ACA', 'UUU', 'GGC', 'UAG', 'GUU', 'UUA', 'UAG', 'CUG', 'GCU', 'UGA', 'UUG', 'CCA', 'UAG', 'UAA', 'UGG', 'UGA', 'CAA', 'UUA', 'UGC', 'UUU', 'GCU', 'GUA', 'U\\n', 'GAC', 'CAG', 'UUG', 'CUG', 'UAG', 'UUG', 'UCU', 'CAA', 'GGG', 'CUG', 'UUG', 'UUC', 'UUG', 'UGG', 'AUC', 'CUG', 'CUG', 'CAA', 'AUU', 'UGA', 'UGA', 'AGA', 'CGA', 'C\\n', 'UCU', 'GAG', 'CCA', 'GUG', 'CUC', 'AAA', 'GGA', 'GUC', 'AAA', 'UUA', 'CAU', 'UAC', 'ACA', 'UAA', '\\n']\n"
     ]
    }
   ],
   "source": [
    "print(codons)"
   ]
  },
  {
   "cell_type": "code",
   "execution_count": 11,
   "metadata": {},
   "outputs": [
    {
     "name": "stdout",
     "output_type": "stream",
     "text": [
      "Il n'y a pas de valeur en dessous de 3\n"
     ]
    }
   ],
   "source": [
    "k=0\n",
    "try:\n",
    "    for k in range (len(codons)):\n",
    "            if len(codons[k]) != 3:\n",
    "                codons.remove(codons[k])\n",
    "except:\n",
    "    print(\"Il n'y a pas de valeur en dessous de 3\")"
   ]
  },
  {
   "cell_type": "code",
   "execution_count": 12,
   "metadata": {},
   "outputs": [],
   "source": [
    "acide = traduire_arn(codons)"
   ]
  },
  {
   "cell_type": "code",
   "execution_count": 13,
   "metadata": {
    "scrolled": true
   },
   "outputs": [],
   "source": [
    "tableau = {}\n",
    "i = 0\n",
    "j = 0\n",
    "result = \"\"\n",
    "\n",
    "for i in range (len(acide)):\n",
    "    if acide[i] not in tableau:\n",
    "        tableau[acide[i]] = codons[j]       \n",
    "    else:\n",
    "        valeur = tableau[acide[i]]\n",
    "        tableau[acide[i]] = valeur+\" \"+codons[j]  \n",
    "    j+=1   "
   ]
  },
  {
   "cell_type": "code",
   "execution_count": 14,
   "metadata": {},
   "outputs": [
    {
     "name": "stdout",
     "output_type": "stream",
     "text": [
      "Met:AUG\n",
      " \n",
      "Phe:UUU UUU UUU UUU UUU UUC UUU UUC UUU UUU UUU\n",
      " \n",
      "Val:GUU GUU GUC GUU GUG GUG GUU GUU GUC GUU\n",
      " \n",
      "Leu:CUU UUA UUG CUA CUU CUG CUA CUU CUG CUU CUU CUU UUG CUA CUG CUA\n",
      " \n",
      "Pro:CCA CCC CCU CCA CCU CCA CCA\n",
      " \n",
      "Ser:UCU AGU UCA UCA UCA UCU AGU\n",
      " \n",
      "Gln:CAG CAA CAG CAA\n",
      " \n",
      "Cys:UGU UGU UGC UGU\n",
      " \n",
      "Asn:AAU AAC AAU AAC AAU\n",
      " \n",
      "Thr:ACA ACC ACU ACA ACC ACA ACA ACC ACA ACC ACU ACA\n",
      " \n",
      "Arg:AGA AGG AGA\n",
      " \n",
      "Tyr:UAC UAC UAU UAU\n",
      " \n",
      "His:CAU CAC\n",
      " \n",
      "Ile:AUU AUU\n",
      " \n",
      "Lys:AAG AAG\n",
      " \n",
      "Asp:GAU GAU GAU\n",
      " \n",
      "Gly:GGA GGG GGU GGU\n",
      " \n",
      "Ala:GCU\n",
      " \n",
      "None:UAA\n",
      " \n"
     ]
    }
   ],
   "source": [
    "fp = open (\"amines.txt\", \"a\")\n",
    "for key, value in tableau.items():\n",
    "    result = str(key)+':'+str(value)+ \"\\n \" \n",
    "    print(result)\n",
    "    fp.write(result)    \n",
    "fp.close()\n"
   ]
  },
  {
   "cell_type": "code",
   "execution_count": null,
   "metadata": {},
   "outputs": [],
   "source": []
  }
 ],
 "metadata": {
  "colab": {
   "name": "TD_20190918.ipynb",
   "provenance": []
  },
  "kernelspec": {
   "display_name": "Python 3 (ipykernel)",
   "language": "python",
   "name": "python3"
  },
  "language_info": {
   "codemirror_mode": {
    "name": "ipython",
    "version": 3
   },
   "file_extension": ".py",
   "mimetype": "text/x-python",
   "name": "python",
   "nbconvert_exporter": "python",
   "pygments_lexer": "ipython3",
   "version": "3.11.5"
  }
 },
 "nbformat": 4,
 "nbformat_minor": 1
}
